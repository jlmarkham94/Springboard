{
 "cells": [
  {
   "cell_type": "code",
   "execution_count": 2,
   "id": "daa90441",
   "metadata": {},
   "outputs": [],
   "source": [
    "#import necessary packages- pandas, numpy, & sqlalchemy\n",
    "import pandas as pd\n",
    "import numpy as np\n",
    "from sqlalchemy import create_engine, inspect"
   ]
  },
  {
   "cell_type": "code",
   "execution_count": 3,
   "id": "ed525d96",
   "metadata": {},
   "outputs": [],
   "source": [
    "#create an engine\n",
    "engine = create_engine('sqlite:///sqlite_db_pythonsqlite.db')"
   ]
  },
  {
   "cell_type": "code",
   "execution_count": 15,
   "id": "5b10b0ee",
   "metadata": {},
   "outputs": [],
   "source": [
    "#create an inspector to perform database schema inspection\n",
    "inspector = inspect(engine)"
   ]
  },
  {
   "cell_type": "code",
   "execution_count": 17,
   "id": "68207bca",
   "metadata": {},
   "outputs": [
    {
     "name": "stdout",
     "output_type": "stream",
     "text": [
      "['Bookings', 'Facilities', 'Members']\n"
     ]
    }
   ],
   "source": [
    "#select and print table_names\n",
    "table_names = inspector.get_table_names()\n",
    "print(table_names)"
   ]
  },
  {
   "cell_type": "code",
   "execution_count": 20,
   "id": "d53a0bf2",
   "metadata": {},
   "outputs": [
    {
     "name": "stdout",
     "output_type": "stream",
     "text": [
      "   bookid  facid  memid            starttime  slots\n",
      "0       0      3      1  2012-07-03 11:00:00      2\n",
      "1       1      4      1  2012-07-03 08:00:00      2\n",
      "2       2      6      0  2012-07-03 18:00:00      2\n",
      "3       3      7      1  2012-07-03 19:00:00      2\n",
      "4       4      8      1  2012-07-03 10:00:00      1\n"
     ]
    }
   ],
   "source": [
    "#Query Bookings table, print first 5 rows\n",
    "df = pd.read_sql_query(\"SELECT * FROM Bookings\", engine)\n",
    "print(df.head())"
   ]
  },
  {
   "cell_type": "code",
   "execution_count": 24,
   "id": "1fe2bd0a",
   "metadata": {},
   "outputs": [
    {
     "name": "stdout",
     "output_type": "stream",
     "text": [
      "   facid             name  membercost  guestcost  initialoutlay  \\\n",
      "0      0   Tennis Court 1         5.0       25.0          10000   \n",
      "1      1   Tennis Court 2         5.0       25.0           8000   \n",
      "2      2  Badminton Court         0.0       15.5           4000   \n",
      "3      3     Table Tennis         0.0        5.0            320   \n",
      "4      4   Massage Room 1         9.9       80.0           4000   \n",
      "\n",
      "   monthlymaintenance  \n",
      "0                 200  \n",
      "1                 200  \n",
      "2                  50  \n",
      "3                  10  \n",
      "4                3000  \n"
     ]
    }
   ],
   "source": [
    "#Query Facilities table, print first 5 rows\n",
    "df = pd.read_sql_query(\"SELECT * FROM Facilities\", engine)\n",
    "print(df.head())"
   ]
  },
  {
   "cell_type": "code",
   "execution_count": 25,
   "id": "eb454d38",
   "metadata": {},
   "outputs": [
    {
     "name": "stdout",
     "output_type": "stream",
     "text": [
      "   memid   surname firstname                       address  zipcode  \\\n",
      "0      0     GUEST     GUEST                         GUEST        0   \n",
      "1      1     Smith    Darren    8 Bloomsbury Close, Boston     4321   \n",
      "2      2     Smith     Tracy  8 Bloomsbury Close, New York     4321   \n",
      "3      3    Rownam       Tim        23 Highway Way, Boston    23423   \n",
      "4      4  Joplette    Janice    20 Crossing Road, New York      234   \n",
      "\n",
      "        telephone recommendedby             joindate  \n",
      "0  (000) 000-0000                2012-07-01 00:00:00  \n",
      "1    555-555-5555                2012-07-02 12:02:05  \n",
      "2    555-555-5555                2012-07-02 12:08:23  \n",
      "3  (844) 693-0723                2012-07-03 09:32:15  \n",
      "4  (833) 942-4710             1  2012-07-03 10:25:05  \n"
     ]
    }
   ],
   "source": [
    "#Query Members table, print first 5 rows\n",
    "df = pd.read_sql_query(\"SELECT * FROM Members\", engine)\n",
    "print(df.head())"
   ]
  },
  {
   "cell_type": "code",
   "execution_count": 40,
   "id": "686ddaaf",
   "metadata": {},
   "outputs": [],
   "source": [
    "#QUESTIONS \n",
    "#Q1: Some of the facilities charge a fee to members, but some do not.\n",
    "#Write a SQL query to produce a list of the names of the facilities that do. "
   ]
  },
  {
   "cell_type": "code",
   "execution_count": 42,
   "id": "4b7e858e",
   "metadata": {},
   "outputs": [
    {
     "name": "stdout",
     "output_type": "stream",
     "text": [
      "             name\n",
      "0  Tennis Court 1\n",
      "1  Tennis Court 2\n",
      "2  Massage Room 1\n",
      "3  Massage Room 2\n",
      "4    Squash Court\n"
     ]
    }
   ],
   "source": [
    "df = pd.read_sql_query(\"SELECT name FROM Facilities WHERE membercost >0\", engine)\n",
    "print(df)"
   ]
  },
  {
   "cell_type": "code",
   "execution_count": 43,
   "id": "1780289d",
   "metadata": {},
   "outputs": [],
   "source": [
    "#Q2: How many facilities do not charge a fee to members? "
   ]
  },
  {
   "cell_type": "code",
   "execution_count": 46,
   "id": "42679714",
   "metadata": {},
   "outputs": [
    {
     "name": "stdout",
     "output_type": "stream",
     "text": [
      "   facility_count\n",
      "0               4\n"
     ]
    }
   ],
   "source": [
    "df = pd.read_sql_query(\"SELECT COUNT(name) AS facility_count FROM Facilities WHERE membercost = 0.0\", engine)\n",
    "print(df)"
   ]
  },
  {
   "cell_type": "code",
   "execution_count": 53,
   "id": "9dc67777",
   "metadata": {},
   "outputs": [],
   "source": [
    "#Q3: Write an SQL query to show a list of facilities that charge a fee to members,\n",
    "#where the fee is less than 20% of the facility's monthly maintenance cost.\n",
    "#Return the facid, facility name, member cost, and monthly maintenance of the\n",
    "#facilities in question."
   ]
  },
  {
   "cell_type": "code",
   "execution_count": 54,
   "id": "f7909f4e",
   "metadata": {},
   "outputs": [
    {
     "name": "stdout",
     "output_type": "stream",
     "text": [
      "   facid             name  membercost  monthlymaintenance\n",
      "0      0   Tennis Court 1         5.0                 200\n",
      "1      1   Tennis Court 2         5.0                 200\n",
      "2      2  Badminton Court         0.0                  50\n",
      "3      3     Table Tennis         0.0                  10\n",
      "4      4   Massage Room 1         9.9                3000\n",
      "5      5   Massage Room 2         9.9                3000\n",
      "6      6     Squash Court         3.5                  80\n",
      "7      7    Snooker Table         0.0                  15\n",
      "8      8       Pool Table         0.0                  15\n"
     ]
    }
   ],
   "source": [
    "df = pd.read_sql_query(\"SELECT facid, name, membercost, monthlymaintenance FROM Facilities WHERE membercost < 0.20*(monthlymaintenance)\", engine)\n",
    "print(df)"
   ]
  },
  {
   "cell_type": "code",
   "execution_count": 55,
   "id": "08ef3dc7",
   "metadata": {},
   "outputs": [],
   "source": [
    "#Q4: Write an SQL query to retrieve the details of facilities with ID 1 and 5.\n",
    "#Try writing the query without using the OR operator."
   ]
  },
  {
   "cell_type": "code",
   "execution_count": 56,
   "id": "403e65bd",
   "metadata": {},
   "outputs": [
    {
     "name": "stdout",
     "output_type": "stream",
     "text": [
      "   facid            name  membercost  guestcost  initialoutlay  \\\n",
      "0      1  Tennis Court 2         5.0         25           8000   \n",
      "1      5  Massage Room 2         9.9         80           4000   \n",
      "\n",
      "   monthlymaintenance  \n",
      "0                 200  \n",
      "1                3000  \n"
     ]
    }
   ],
   "source": [
    "df = pd.read_sql_query(\"SELECT * FROM Facilities WHERE facid IN (1,5)\", engine)\n",
    "print(df)"
   ]
  },
  {
   "cell_type": "code",
   "execution_count": 57,
   "id": "08132880",
   "metadata": {},
   "outputs": [],
   "source": [
    "#Q5: Produce a list of facilities, with each labelled as\n",
    "#'cheap' or 'expensive', depending on if their monthly maintenance cost is\n",
    "#more than $100. Return the name and monthly maintenance of the facilities\n",
    "#in question. "
   ]
  },
  {
   "cell_type": "code",
   "execution_count": 60,
   "id": "18ef9d8f",
   "metadata": {},
   "outputs": [
    {
     "name": "stdout",
     "output_type": "stream",
     "text": [
      "              name  monthlymaintenance facility_label\n",
      "0     Table Tennis                  10          cheap\n",
      "1    Snooker Table                  15          cheap\n",
      "2       Pool Table                  15          cheap\n",
      "3  Badminton Court                  50          cheap\n",
      "4     Squash Court                  80          cheap\n",
      "5   Tennis Court 1                 200      expensive\n",
      "6   Tennis Court 2                 200      expensive\n",
      "7   Massage Room 1                3000      expensive\n",
      "8   Massage Room 2                3000      expensive\n"
     ]
    }
   ],
   "source": [
    "#Note when using CASE WHEN statement, you need to place a common after the last column selected in the SELECT statement (i.e. right before CASE WHEN)\n",
    "df = pd.read_sql_query(\"SELECT name, monthlymaintenance, CASE WHEN monthlymaintenance > 100 THEN 'expensive' ELSE 'cheap' END AS facility_label FROM Facilities ORDER BY monthlymaintenance\", engine)\n",
    "print(df)"
   ]
  },
  {
   "cell_type": "code",
   "execution_count": 61,
   "id": "81886ff4",
   "metadata": {},
   "outputs": [],
   "source": [
    "#Q6: You'd like to get the first and last name of the last member(s)\n",
    "#who signed up. Try not to use the LIMIT clause for your solution. "
   ]
  },
  {
   "cell_type": "code",
   "execution_count": 68,
   "id": "350b2053",
   "metadata": {},
   "outputs": [
    {
     "name": "stdout",
     "output_type": "stream",
     "text": [
      "  firstname            surname\n",
      "0     GUEST              GUEST\n",
      "1     Henry  Worthington-Smyth\n"
     ]
    }
   ],
   "source": [
    "df = pd.read_sql_query(\"SELECT m.firstname, m.surname FROM Bookings as b INNER JOIN Members AS m ON b.memid = m.memid WHERE starttime IN (SELECT MAX(starttime) FROM BOOKINGS)\", engine)\n",
    "print(df)"
   ]
  },
  {
   "cell_type": "code",
   "execution_count": 69,
   "id": "43c3f5c4",
   "metadata": {},
   "outputs": [],
   "source": [
    "#Q7: Produce a list of all members who have used a tennis court.\n",
    "#Include in your output the name of the court, and the name of the member\n",
    "#formatted as a single column. Ensure no duplicate data, and order by\n",
    "#the member name. "
   ]
  },
  {
   "cell_type": "code",
   "execution_count": 78,
   "id": "6a2cea4d",
   "metadata": {},
   "outputs": [
    {
     "name": "stdout",
     "output_type": "stream",
     "text": [
      "          member_name            name\n",
      "0      Bader Florence  Tennis Court 1\n",
      "1      Bader Florence  Tennis Court 2\n",
      "2          Baker Anne  Tennis Court 1\n",
      "3          Baker Anne  Tennis Court 2\n",
      "4       Baker Timothy  Tennis Court 1\n",
      "5       Baker Timothy  Tennis Court 2\n",
      "6          Boothe Tim  Tennis Court 1\n",
      "7          Boothe Tim  Tennis Court 2\n",
      "8      Butters Gerald  Tennis Court 1\n",
      "9      Butters Gerald  Tennis Court 2\n",
      "10        Coplin Joan  Tennis Court 1\n",
      "11      Crumpet Erica  Tennis Court 1\n",
      "12         Dare Nancy  Tennis Court 1\n",
      "13         Dare Nancy  Tennis Court 2\n",
      "14      Farrell David  Tennis Court 1\n",
      "15      Farrell David  Tennis Court 2\n",
      "16     Farrell Jemima  Tennis Court 1\n",
      "17     Farrell Jemima  Tennis Court 2\n",
      "18        GUEST GUEST  Tennis Court 1\n",
      "19        GUEST GUEST  Tennis Court 2\n",
      "20    Genting Matthew  Tennis Court 1\n",
      "21          Hunt John  Tennis Court 1\n",
      "22          Hunt John  Tennis Court 2\n",
      "23        Jones David  Tennis Court 1\n",
      "24        Jones David  Tennis Court 2\n",
      "25      Jones Douglas  Tennis Court 1\n",
      "26    Joplette Janice  Tennis Court 1\n",
      "27    Joplette Janice  Tennis Court 2\n",
      "28       Owen Charles  Tennis Court 1\n",
      "29       Owen Charles  Tennis Court 2\n",
      "30       Pinker David  Tennis Court 1\n",
      "31  Purview Millicent  Tennis Court 2\n",
      "32         Rownam Tim  Tennis Court 1\n",
      "33         Rownam Tim  Tennis Court 2\n",
      "34   Rumney Henrietta  Tennis Court 2\n",
      "35   Sarwin Ramnaresh  Tennis Court 1\n",
      "36   Sarwin Ramnaresh  Tennis Court 2\n",
      "37       Smith Darren  Tennis Court 2\n",
      "38         Smith Jack  Tennis Court 1\n",
      "39         Smith Jack  Tennis Court 2\n",
      "40        Smith Tracy  Tennis Court 1\n",
      "41        Smith Tracy  Tennis Court 2\n",
      "42    Stibbons Ponder  Tennis Court 1\n",
      "43    Stibbons Ponder  Tennis Court 2\n",
      "44       Tracy Burton  Tennis Court 1\n",
      "45       Tracy Burton  Tennis Court 2\n"
     ]
    }
   ],
   "source": [
    "#Note || is CONCAT () equivalent in sqlite environment\n",
    "q7_query = \"SELECT surname || ' ' || firstname AS member_name, name FROM Members AS m INNER JOIN Bookings AS b ON m.memid = b.memid INNER JOIN Facilities AS f ON b.facid = f.facid WHERE b.facid IN (0,1) GROUP BY member_name, name ORDER BY member_name\"\n",
    "df = pd.read_sql_query(q7_query, engine)\n",
    "print(df)"
   ]
  },
  {
   "cell_type": "code",
   "execution_count": 79,
   "id": "00907374",
   "metadata": {},
   "outputs": [],
   "source": [
    "#Q8: Produce a list of bookings on the day of 2012-09-14 which\n",
    "#will cost the member (or guest) more than $30. Remember that guests have\n",
    "#different costs to members (the listed costs are per half-hour 'slot'), and\n",
    "#the guest user's ID is always 0. Include in your output the name of the\n",
    "#facility, the name of the member formatted as a single column, and the cost.\n",
    "#Order by descending cost, and do not use any subqueries. */"
   ]
  },
  {
   "cell_type": "code",
   "execution_count": 88,
   "id": "1ce91815",
   "metadata": {},
   "outputs": [
    {
     "name": "stdout",
     "output_type": "stream",
     "text": [
      "       member_name            name   cost\n",
      "0      GUEST GUEST  Massage Room 2  320.0\n",
      "1      GUEST GUEST  Massage Room 1  160.0\n",
      "2      GUEST GUEST  Massage Room 1  160.0\n",
      "3      GUEST GUEST  Massage Room 1  160.0\n",
      "4      GUEST GUEST  Tennis Court 2  150.0\n",
      "5      GUEST GUEST  Tennis Court 1   75.0\n",
      "6      GUEST GUEST  Tennis Court 1   75.0\n",
      "7      GUEST GUEST  Tennis Court 2   75.0\n",
      "8      GUEST GUEST    Squash Court   70.0\n",
      "9   Farrell Jemima  Massage Room 1   39.6\n",
      "10     GUEST GUEST    Squash Court   35.0\n",
      "11     GUEST GUEST    Squash Court   35.0\n"
     ]
    }
   ],
   "source": [
    "#Note when using CASE WHEN statement, you need to place a common after the last column selected in the SELECT statement (i.e. right before CASE WHEN)\n",
    "q8_query = \"SELECT surname || ' ' || firstname AS member_name, name, CASE WHEN m.memid=0 THEN guestcost*slots ELSE membercost*slots END AS cost FROM Members AS m INNER JOIN Bookings as b ON m.memid = b.memid INNER JOIN Facilities AS f ON b.facid = f.facid WHERE starttime LIKE '2012-09-14%' AND cost > 30 ORDER BY cost DESC\"\n",
    "df = pd.read_sql_query(q8_query, engine)\n",
    "print(df)"
   ]
  },
  {
   "cell_type": "code",
   "execution_count": 94,
   "id": "3cfa6555",
   "metadata": {},
   "outputs": [],
   "source": [
    "#Q9: This time, produce the same result as in Q8, but using a subquery."
   ]
  },
  {
   "cell_type": "code",
   "execution_count": 95,
   "id": "b37ac068",
   "metadata": {},
   "outputs": [
    {
     "name": "stdout",
     "output_type": "stream",
     "text": [
      "          facility          member   cost\n",
      "0   Massage Room 2     GUEST GUEST  320.0\n",
      "1   Massage Room 1     GUEST GUEST  160.0\n",
      "2   Massage Room 1     GUEST GUEST  160.0\n",
      "3   Massage Room 1     GUEST GUEST  160.0\n",
      "4   Tennis Court 2     GUEST GUEST  150.0\n",
      "5   Tennis Court 1     GUEST GUEST   75.0\n",
      "6   Tennis Court 1     GUEST GUEST   75.0\n",
      "7   Tennis Court 2     GUEST GUEST   75.0\n",
      "8     Squash Court     GUEST GUEST   70.0\n",
      "9   Massage Room 1  Farrell Jemima   39.6\n",
      "10    Squash Court     GUEST GUEST   35.0\n",
      "11    Squash Court     GUEST GUEST   35.0\n"
     ]
    }
   ],
   "source": [
    "q9_query = \"SELECT facility, member, cost FROM (SELECT m.surname || ' ' || m.firstname AS member, f.name AS facility, CASE WHEN m.memid = 0 THEN guestcost*slots ELSE membercost*slots END AS cost FROM Members AS m INNER JOIN Bookings AS b ON m.memid = b.memid INNER JOIN Facilities AS f ON b.facid = f.facid WHERE starttime LIKE '2012-09-14%') AS booking_costs WHERE cost > 30 ORDER BY cost DESC\"\n",
    "df = pd.read_sql_query(q9_query, engine)\n",
    "print(df)"
   ]
  },
  {
   "cell_type": "code",
   "execution_count": null,
   "id": "dca654e9",
   "metadata": {},
   "outputs": [],
   "source": [
    "#Q10: Produce a list of facilities with a total revenue less than 1000.\n",
    "#The output of facility name and total revenue, sorted by revenue. Remember\n",
    "#that there's a different cost for guests and members! "
   ]
  },
  {
   "cell_type": "code",
   "execution_count": 97,
   "id": "8b762f1c",
   "metadata": {},
   "outputs": [
    {
     "name": "stdout",
     "output_type": "stream",
     "text": [
      "          facility  total_revenue\n",
      "0   Massage Room 1        50351.6\n",
      "1   Massage Room 2        14454.6\n",
      "2   Tennis Court 2        14310.0\n",
      "3   Tennis Court 1        13860.0\n",
      "4     Squash Court        13468.0\n",
      "5  Badminton Court         1906.5\n",
      "6       Pool Table          270.0\n",
      "7    Snooker Table          240.0\n",
      "8     Table Tennis          180.0\n"
     ]
    }
   ],
   "source": [
    "q10_query = \"SELECT facility, SUM(revenue) AS total_revenue FROM (SELECT f.name AS facility, CASE WHEN m.memid = 0 THEN guestcost*slots ELSE membercost*slots END AS revenue FROM Members AS m INNER JOIN Bookings AS b ON m.memid = b.memid INNER JOIN Facilities as f ON b.facid = f.facid) AS facility_revenues GROUP BY facility ORDER BY total_revenue DESC\"\n",
    "df = pd.read_sql_query(q10_query, engine)\n",
    "print(df)"
   ]
  },
  {
   "cell_type": "code",
   "execution_count": 98,
   "id": "c40a57c8",
   "metadata": {},
   "outputs": [],
   "source": [
    "#Q11: Produce a report of members and who recommended them in alphabetic surname,firstname order "
   ]
  },
  {
   "cell_type": "code",
   "execution_count": 102,
   "id": "1d177106",
   "metadata": {},
   "outputs": [
    {
     "name": "stdout",
     "output_type": "stream",
     "text": [
      "                     member        recommender\n",
      "0            Bader Florence    Stibbons Ponder\n",
      "1                Baker Anne    Stibbons Ponder\n",
      "2             Baker Timothy     Farrell Jemima\n",
      "3                Boothe Tim         Rownam Tim\n",
      "4            Butters Gerald       Smith Darren\n",
      "5               Coplin Joan      Baker Timothy\n",
      "6             Crumpet Erica        Smith Tracy\n",
      "7                Dare Nancy    Joplette Janice\n",
      "8             Farrell David               None\n",
      "9            Farrell Jemima               None\n",
      "10              GUEST GUEST               None\n",
      "11          Genting Matthew     Butters Gerald\n",
      "12                Hunt John  Purview Millicent\n",
      "13              Jones David    Joplette Janice\n",
      "14            Jones Douglas        Jones David\n",
      "15          Joplette Janice       Smith Darren\n",
      "16           Mackenzie Anna       Smith Darren\n",
      "17             Owen Charles       Smith Darren\n",
      "18             Pinker David     Farrell Jemima\n",
      "19        Purview Millicent        Smith Tracy\n",
      "20               Rownam Tim               None\n",
      "21         Rumney Henrietta    Genting Matthew\n",
      "22         Sarwin Ramnaresh     Bader Florence\n",
      "23             Smith Darren               None\n",
      "24               Smith Jack       Smith Darren\n",
      "25              Smith Tracy               None\n",
      "26          Stibbons Ponder       Tracy Burton\n",
      "27             Tracy Burton               None\n",
      "28      Tupperware Hyacinth               None\n",
      "29  Worthington-Smyth Henry        Smith Tracy\n"
     ]
    }
   ],
   "source": [
    "q11_query = \"SELECT DISTINCT m.surname || ' ' || m.firstname AS member, (SELECT r.surname || ' ' || r.firstname FROM Members AS r WHERE r.memid = m.recommendedby) AS recommender FROM Members AS m ORDER BY member\"\n",
    "df = pd.read_sql_query(q11_query, engine)\n",
    "print(df)"
   ]
  },
  {
   "cell_type": "code",
   "execution_count": null,
   "id": "042095e1",
   "metadata": {},
   "outputs": [],
   "source": [
    "#Q12: Find the facilities with their usage by member, but not guests."
   ]
  },
  {
   "cell_type": "code",
   "execution_count": 4,
   "id": "78dcc8ed",
   "metadata": {},
   "outputs": [
    {
     "name": "stdout",
     "output_type": "stream",
     "text": [
      "            facility      member_name  num_slots\n",
      "0    Badminton Court   Bader Florence         27\n",
      "1    Badminton Court       Baker Anne         30\n",
      "2    Badminton Court    Baker Timothy         21\n",
      "3    Badminton Court       Boothe Tim         36\n",
      "4    Badminton Court   Butters Gerald         63\n",
      "..               ...              ...        ...\n",
      "197   Tennis Court 2     Smith Darren         57\n",
      "198   Tennis Court 2       Smith Jack          3\n",
      "199   Tennis Court 2      Smith Tracy          6\n",
      "200   Tennis Court 2  Stibbons Ponder         96\n",
      "201   Tennis Court 2     Tracy Burton          9\n",
      "\n",
      "[202 rows x 3 columns]\n"
     ]
    }
   ],
   "source": [
    "q12_query = \"SELECT f.name AS facility, m.surname || ' ' || m.firstname AS member_name, SUM(slots) AS num_slots FROM Bookings AS b JOIN Facilities AS f ON b.facid = f.facid JOIN Members AS m ON b.memid = m.memid WHERE b.memid !=0 GROUP BY facility, member_name\"\n",
    "df = pd.read_sql_query(q12_query, engine)\n",
    "print(df)"
   ]
  },
  {
   "cell_type": "code",
   "execution_count": null,
   "id": "ccef6f69",
   "metadata": {},
   "outputs": [],
   "source": [
    "#Q13: Find the facilities usage by month, but not guests"
   ]
  },
  {
   "cell_type": "code",
   "execution_count": 9,
   "id": "4f63fb24",
   "metadata": {},
   "outputs": [
    {
     "name": "stdout",
     "output_type": "stream",
     "text": [
      "           facility month  num_slots\n",
      "0   Badminton Court    07         15\n",
      "1   Badminton Court    08         45\n",
      "2   Badminton Court    09         63\n",
      "3    Massage Room 1    07         98\n",
      "4    Massage Room 1    08        176\n",
      "5    Massage Room 1    09        246\n",
      "6    Massage Room 2    07         16\n",
      "7    Massage Room 2    08         64\n",
      "8    Massage Room 2    09         94\n",
      "9        Pool Table    07          7\n",
      "10       Pool Table    08         19\n",
      "11       Pool Table    09         28\n",
      "12    Snooker Table    07         16\n",
      "13    Snooker Table    08         10\n",
      "14    Snooker Table    09         22\n",
      "15     Squash Court    07        114\n",
      "16     Squash Court    08        216\n",
      "17     Squash Court    09        356\n",
      "18     Table Tennis    07          6\n",
      "19     Table Tennis    08          8\n",
      "20     Table Tennis    09         22\n",
      "21   Tennis Court 1    07         69\n",
      "22   Tennis Court 1    08        120\n",
      "23   Tennis Court 1    09        174\n",
      "24   Tennis Court 2    07         84\n",
      "25   Tennis Court 2    08        138\n",
      "26   Tennis Court 2    09        174\n"
     ]
    }
   ],
   "source": [
    "q13_query = \"SELECT f.name AS facility, STRFTIME('%m', b.starttime) AS month, SUM(slots) AS num_slots FROM Bookings AS b JOIN Facilities AS f ON b.facid = f.facid JOIN Members AS m ON b.memid = m.memid WHERE b.memid = 0 GROUP BY facility, month\"\n",
    "df = pd.read_sql_query(q12_query, engine)\n",
    "print(df)"
   ]
  },
  {
   "cell_type": "code",
   "execution_count": null,
   "id": "0bdf3fcb",
   "metadata": {},
   "outputs": [],
   "source": []
  }
 ],
 "metadata": {
  "kernelspec": {
   "display_name": "Python 3 (ipykernel)",
   "language": "python",
   "name": "python3"
  },
  "language_info": {
   "codemirror_mode": {
    "name": "ipython",
    "version": 3
   },
   "file_extension": ".py",
   "mimetype": "text/x-python",
   "name": "python",
   "nbconvert_exporter": "python",
   "pygments_lexer": "ipython3",
   "version": "3.9.13"
  }
 },
 "nbformat": 4,
 "nbformat_minor": 5
}
