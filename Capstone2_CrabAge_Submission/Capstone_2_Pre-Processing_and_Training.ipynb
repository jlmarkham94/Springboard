{
 "cells": [
  {
   "cell_type": "markdown",
   "id": "a0278893",
   "metadata": {},
   "source": [
    "Picking up where we left off in the exploratory data analysis, let's load in the finalized crab_df_cleaned where outliers were removed. In this next step of the capstone, we'll prepare the dataset for modelling to help elucidate relationships between feature(s) in the dataset and Age."
   ]
  },
  {
   "cell_type": "code",
   "execution_count": 41,
   "id": "35e6d4e8",
   "metadata": {},
   "outputs": [],
   "source": [
    "#Import necessary modules\n",
    "import pandas as pd\n",
    "import numpy as np\n",
    "from sklearn.preprocessing import StandardScaler\n",
    "from sklearn.model_selection import train_test_split"
   ]
  },
  {
   "cell_type": "code",
   "execution_count": 42,
   "id": "b85f7525",
   "metadata": {},
   "outputs": [],
   "source": [
    "#Import crab_df\n",
    "crab_df = pd.read_csv('./cleaned_data/crab_df_eda.csv', index_col= [0]).drop(columns = ['index'])"
   ]
  },
  {
   "cell_type": "code",
   "execution_count": 43,
   "id": "ce56fd81",
   "metadata": {},
   "outputs": [
    {
     "data": {
      "text/html": [
       "<div>\n",
       "<style scoped>\n",
       "    .dataframe tbody tr th:only-of-type {\n",
       "        vertical-align: middle;\n",
       "    }\n",
       "\n",
       "    .dataframe tbody tr th {\n",
       "        vertical-align: top;\n",
       "    }\n",
       "\n",
       "    .dataframe thead th {\n",
       "        text-align: right;\n",
       "    }\n",
       "</style>\n",
       "<table border=\"1\" class=\"dataframe\">\n",
       "  <thead>\n",
       "    <tr style=\"text-align: right;\">\n",
       "      <th></th>\n",
       "      <th>id</th>\n",
       "      <th>Sex</th>\n",
       "      <th>Length</th>\n",
       "      <th>Diameter</th>\n",
       "      <th>Height</th>\n",
       "      <th>Weight</th>\n",
       "      <th>Shucked_Weight</th>\n",
       "      <th>Viscera_Weight</th>\n",
       "      <th>Shell_Weight</th>\n",
       "      <th>Age</th>\n",
       "    </tr>\n",
       "  </thead>\n",
       "  <tbody>\n",
       "    <tr>\n",
       "      <th>0</th>\n",
       "      <td>0</td>\n",
       "      <td>I</td>\n",
       "      <td>0.8125</td>\n",
       "      <td>0.6250</td>\n",
       "      <td>0.1625</td>\n",
       "      <td>5.244657</td>\n",
       "      <td>2.423882</td>\n",
       "      <td>1.119805</td>\n",
       "      <td>1.133980</td>\n",
       "      <td>5.0</td>\n",
       "    </tr>\n",
       "    <tr>\n",
       "      <th>1</th>\n",
       "      <td>1</td>\n",
       "      <td>M</td>\n",
       "      <td>1.1750</td>\n",
       "      <td>0.9250</td>\n",
       "      <td>0.2875</td>\n",
       "      <td>13.366789</td>\n",
       "      <td>5.556502</td>\n",
       "      <td>2.806601</td>\n",
       "      <td>4.266600</td>\n",
       "      <td>8.0</td>\n",
       "    </tr>\n",
       "    <tr>\n",
       "      <th>2</th>\n",
       "      <td>2</td>\n",
       "      <td>I</td>\n",
       "      <td>0.8500</td>\n",
       "      <td>0.6500</td>\n",
       "      <td>0.2500</td>\n",
       "      <td>5.301356</td>\n",
       "      <td>2.679028</td>\n",
       "      <td>1.190679</td>\n",
       "      <td>1.644271</td>\n",
       "      <td>6.0</td>\n",
       "    </tr>\n",
       "    <tr>\n",
       "      <th>3</th>\n",
       "      <td>3</td>\n",
       "      <td>M</td>\n",
       "      <td>1.3375</td>\n",
       "      <td>1.0875</td>\n",
       "      <td>0.4125</td>\n",
       "      <td>26.322511</td>\n",
       "      <td>10.999606</td>\n",
       "      <td>6.562909</td>\n",
       "      <td>7.654365</td>\n",
       "      <td>10.0</td>\n",
       "    </tr>\n",
       "    <tr>\n",
       "      <th>4</th>\n",
       "      <td>4</td>\n",
       "      <td>M</td>\n",
       "      <td>1.7000</td>\n",
       "      <td>1.3000</td>\n",
       "      <td>0.4250</td>\n",
       "      <td>44.225220</td>\n",
       "      <td>24.678240</td>\n",
       "      <td>9.043491</td>\n",
       "      <td>10.517665</td>\n",
       "      <td>9.0</td>\n",
       "    </tr>\n",
       "  </tbody>\n",
       "</table>\n",
       "</div>"
      ],
      "text/plain": [
       "   id Sex  Length  Diameter  Height     Weight  Shucked_Weight  \\\n",
       "0   0   I  0.8125    0.6250  0.1625   5.244657        2.423882   \n",
       "1   1   M  1.1750    0.9250  0.2875  13.366789        5.556502   \n",
       "2   2   I  0.8500    0.6500  0.2500   5.301356        2.679028   \n",
       "3   3   M  1.3375    1.0875  0.4125  26.322511       10.999606   \n",
       "4   4   M  1.7000    1.3000  0.4250  44.225220       24.678240   \n",
       "\n",
       "   Viscera_Weight  Shell_Weight   Age  \n",
       "0        1.119805      1.133980   5.0  \n",
       "1        2.806601      4.266600   8.0  \n",
       "2        1.190679      1.644271   6.0  \n",
       "3        6.562909      7.654365  10.0  \n",
       "4        9.043491     10.517665   9.0  "
      ]
     },
     "execution_count": 43,
     "metadata": {},
     "output_type": "execute_result"
    }
   ],
   "source": [
    "#Check first few observations of dataset to ensure import was successful\n",
    "crab_df.head()"
   ]
  },
  {
   "cell_type": "code",
   "execution_count": 44,
   "id": "28cf0ba3",
   "metadata": {},
   "outputs": [
    {
     "data": {
      "text/plain": [
       "id                  int64\n",
       "Sex                object\n",
       "Length            float64\n",
       "Diameter          float64\n",
       "Height            float64\n",
       "Weight            float64\n",
       "Shucked_Weight    float64\n",
       "Viscera_Weight    float64\n",
       "Shell_Weight      float64\n",
       "Age               float64\n",
       "dtype: object"
      ]
     },
     "execution_count": 44,
     "metadata": {},
     "output_type": "execute_result"
    }
   ],
   "source": [
    "#Check datatypes of crab_df\n",
    "crab_df.dtypes"
   ]
  },
  {
   "cell_type": "markdown",
   "id": "50033661",
   "metadata": {},
   "source": [
    "Before we dive into modelling, we will need to do something about Gender - our only categorical variable. These types of string variables can not be handled by modelling algorithms so we will need to represent the different categories of Gender - Male, Female, and Indeterminate - as numeric values.\n",
    "\n",
    "One of the common options to handle categorical variables is Label Encoding- i.e. where each value of a categorical variable can be represented as number. For example, Male = 0, Female = 1, and Indeterminate = 2. This approach is nice because it is straightforward to understand each unique value of the variable, however some algorithms can misinterpret the difference in magnitude between values as encoding some additional meaning which can impact their performance.\n",
    "\n",
    "To mitigate this, One Hot Encoding is the best approach. One Hot Encoding converts each category value into a new column and assigns a 1 or 0 (True/False) value to each newly created column. This handles the issue of weighting a value improperly as seen in Label Encoding approach but does have the downside of adding additional columns to the data set.\n",
    "\n",
    "An example of Label Encoding vs One Hot Encoding is shown below."
   ]
  },
  {
   "cell_type": "markdown",
   "id": "1e4753c0",
   "metadata": {},
   "source": [
    "Image Source : KDNuggets"
   ]
  },
  {
   "cell_type": "markdown",
   "id": "1bb15a42",
   "metadata": {},
   "source": [
    "**Example of Label Encoding Categorical Variables**\n",
    "<p align=\"right\">\n",
    "<img src=\"./figures/Label_Encoding_Example.jpg\" alt=\"alt text\" width=\"500\" height=\"300\" class=\"blog-image align\">\n",
    "</p>"
   ]
  },
  {
   "cell_type": "markdown",
   "id": "3b0e0ee0",
   "metadata": {},
   "source": [
    "**Example of One Hot Encoding Categorical Variables**\n",
    "<p align=\"center\">\n",
    "<img src=\"./figures/One_Hot_Encoding_Example.jpg\" alt=\"alt text\" width=\"600\" height=\"400\" class=\"blog-image\">\n",
    "</p>"
   ]
  },
  {
   "cell_type": "code",
   "execution_count": 45,
   "id": "b9feb12a",
   "metadata": {},
   "outputs": [],
   "source": [
    "#One Hot Encoding the Gender categorical variable\n",
    "crab_df_modelling = pd.get_dummies(crab_df, dtype = float)"
   ]
  },
  {
   "cell_type": "code",
   "execution_count": 46,
   "id": "94f1a794",
   "metadata": {},
   "outputs": [
    {
     "data": {
      "text/html": [
       "<div>\n",
       "<style scoped>\n",
       "    .dataframe tbody tr th:only-of-type {\n",
       "        vertical-align: middle;\n",
       "    }\n",
       "\n",
       "    .dataframe tbody tr th {\n",
       "        vertical-align: top;\n",
       "    }\n",
       "\n",
       "    .dataframe thead th {\n",
       "        text-align: right;\n",
       "    }\n",
       "</style>\n",
       "<table border=\"1\" class=\"dataframe\">\n",
       "  <thead>\n",
       "    <tr style=\"text-align: right;\">\n",
       "      <th></th>\n",
       "      <th>id</th>\n",
       "      <th>Length</th>\n",
       "      <th>Diameter</th>\n",
       "      <th>Height</th>\n",
       "      <th>Weight</th>\n",
       "      <th>Shucked_Weight</th>\n",
       "      <th>Viscera_Weight</th>\n",
       "      <th>Shell_Weight</th>\n",
       "      <th>Age</th>\n",
       "      <th>Sex_F</th>\n",
       "      <th>Sex_I</th>\n",
       "      <th>Sex_M</th>\n",
       "    </tr>\n",
       "  </thead>\n",
       "  <tbody>\n",
       "    <tr>\n",
       "      <th>0</th>\n",
       "      <td>0</td>\n",
       "      <td>0.8125</td>\n",
       "      <td>0.6250</td>\n",
       "      <td>0.1625</td>\n",
       "      <td>5.244657</td>\n",
       "      <td>2.423882</td>\n",
       "      <td>1.119805</td>\n",
       "      <td>1.133980</td>\n",
       "      <td>5.0</td>\n",
       "      <td>0.0</td>\n",
       "      <td>1.0</td>\n",
       "      <td>0.0</td>\n",
       "    </tr>\n",
       "    <tr>\n",
       "      <th>1</th>\n",
       "      <td>1</td>\n",
       "      <td>1.1750</td>\n",
       "      <td>0.9250</td>\n",
       "      <td>0.2875</td>\n",
       "      <td>13.366789</td>\n",
       "      <td>5.556502</td>\n",
       "      <td>2.806601</td>\n",
       "      <td>4.266600</td>\n",
       "      <td>8.0</td>\n",
       "      <td>0.0</td>\n",
       "      <td>0.0</td>\n",
       "      <td>1.0</td>\n",
       "    </tr>\n",
       "    <tr>\n",
       "      <th>2</th>\n",
       "      <td>2</td>\n",
       "      <td>0.8500</td>\n",
       "      <td>0.6500</td>\n",
       "      <td>0.2500</td>\n",
       "      <td>5.301356</td>\n",
       "      <td>2.679028</td>\n",
       "      <td>1.190679</td>\n",
       "      <td>1.644271</td>\n",
       "      <td>6.0</td>\n",
       "      <td>0.0</td>\n",
       "      <td>1.0</td>\n",
       "      <td>0.0</td>\n",
       "    </tr>\n",
       "    <tr>\n",
       "      <th>3</th>\n",
       "      <td>3</td>\n",
       "      <td>1.3375</td>\n",
       "      <td>1.0875</td>\n",
       "      <td>0.4125</td>\n",
       "      <td>26.322511</td>\n",
       "      <td>10.999606</td>\n",
       "      <td>6.562909</td>\n",
       "      <td>7.654365</td>\n",
       "      <td>10.0</td>\n",
       "      <td>0.0</td>\n",
       "      <td>0.0</td>\n",
       "      <td>1.0</td>\n",
       "    </tr>\n",
       "    <tr>\n",
       "      <th>4</th>\n",
       "      <td>4</td>\n",
       "      <td>1.7000</td>\n",
       "      <td>1.3000</td>\n",
       "      <td>0.4250</td>\n",
       "      <td>44.225220</td>\n",
       "      <td>24.678240</td>\n",
       "      <td>9.043491</td>\n",
       "      <td>10.517665</td>\n",
       "      <td>9.0</td>\n",
       "      <td>0.0</td>\n",
       "      <td>0.0</td>\n",
       "      <td>1.0</td>\n",
       "    </tr>\n",
       "  </tbody>\n",
       "</table>\n",
       "</div>"
      ],
      "text/plain": [
       "   id  Length  Diameter  Height     Weight  Shucked_Weight  Viscera_Weight  \\\n",
       "0   0  0.8125    0.6250  0.1625   5.244657        2.423882        1.119805   \n",
       "1   1  1.1750    0.9250  0.2875  13.366789        5.556502        2.806601   \n",
       "2   2  0.8500    0.6500  0.2500   5.301356        2.679028        1.190679   \n",
       "3   3  1.3375    1.0875  0.4125  26.322511       10.999606        6.562909   \n",
       "4   4  1.7000    1.3000  0.4250  44.225220       24.678240        9.043491   \n",
       "\n",
       "   Shell_Weight   Age  Sex_F  Sex_I  Sex_M  \n",
       "0      1.133980   5.0    0.0    1.0    0.0  \n",
       "1      4.266600   8.0    0.0    0.0    1.0  \n",
       "2      1.644271   6.0    0.0    1.0    0.0  \n",
       "3      7.654365  10.0    0.0    0.0    1.0  \n",
       "4     10.517665   9.0    0.0    0.0    1.0  "
      ]
     },
     "execution_count": 46,
     "metadata": {},
     "output_type": "execute_result"
    }
   ],
   "source": [
    "#Review modelling \n",
    "crab_df_modelling.head()"
   ]
  },
  {
   "cell_type": "markdown",
   "id": "5370a488",
   "metadata": {},
   "source": [
    "Before proceeding with the modelling, we will need to split our data into our independent variables, or the features like length and diameter that will be predicting age, and our dependent variable, age. Following this, the independent variable and dependent variable values will be split into training and testing sets. Training sets are used to create the model and the testing data is a portion of the data purposefully held out of training to validate the performance of the model once it has been made. If a model is tested on the same set of data used to create it, this can lead to overfitting. Overfitting is a situation when a model accurately predicts the outcome on data it has seen during training but is not accurate when performing on unseen data. Typically, 20-30% of all data is witheld when developing a model to use for testing."
   ]
  },
  {
   "cell_type": "code",
   "execution_count": 47,
   "id": "c4a0a7d1",
   "metadata": {},
   "outputs": [],
   "source": [
    "#Splitting crab_df_modelling into independent variables, X, & dependent variable, y (Age)\n",
    "#id values will be dropped as this is not a physical attribute or feature that we want to incorporate in our model\n",
    "X = crab_df_modelling.drop(['id', 'Age'], axis = 1)\n",
    "y = crab_df_modelling.Age"
   ]
  },
  {
   "cell_type": "code",
   "execution_count": 48,
   "id": "29761806",
   "metadata": {},
   "outputs": [
    {
     "data": {
      "text/html": [
       "<div>\n",
       "<style scoped>\n",
       "    .dataframe tbody tr th:only-of-type {\n",
       "        vertical-align: middle;\n",
       "    }\n",
       "\n",
       "    .dataframe tbody tr th {\n",
       "        vertical-align: top;\n",
       "    }\n",
       "\n",
       "    .dataframe thead th {\n",
       "        text-align: right;\n",
       "    }\n",
       "</style>\n",
       "<table border=\"1\" class=\"dataframe\">\n",
       "  <thead>\n",
       "    <tr style=\"text-align: right;\">\n",
       "      <th></th>\n",
       "      <th>Length</th>\n",
       "      <th>Diameter</th>\n",
       "      <th>Height</th>\n",
       "      <th>Weight</th>\n",
       "      <th>Shucked_Weight</th>\n",
       "      <th>Viscera_Weight</th>\n",
       "      <th>Shell_Weight</th>\n",
       "      <th>Sex_F</th>\n",
       "      <th>Sex_I</th>\n",
       "      <th>Sex_M</th>\n",
       "    </tr>\n",
       "  </thead>\n",
       "  <tbody>\n",
       "    <tr>\n",
       "      <th>0</th>\n",
       "      <td>0.8125</td>\n",
       "      <td>0.6250</td>\n",
       "      <td>0.1625</td>\n",
       "      <td>5.244657</td>\n",
       "      <td>2.423882</td>\n",
       "      <td>1.119805</td>\n",
       "      <td>1.133980</td>\n",
       "      <td>0.0</td>\n",
       "      <td>1.0</td>\n",
       "      <td>0.0</td>\n",
       "    </tr>\n",
       "    <tr>\n",
       "      <th>1</th>\n",
       "      <td>1.1750</td>\n",
       "      <td>0.9250</td>\n",
       "      <td>0.2875</td>\n",
       "      <td>13.366789</td>\n",
       "      <td>5.556502</td>\n",
       "      <td>2.806601</td>\n",
       "      <td>4.266600</td>\n",
       "      <td>0.0</td>\n",
       "      <td>0.0</td>\n",
       "      <td>1.0</td>\n",
       "    </tr>\n",
       "    <tr>\n",
       "      <th>2</th>\n",
       "      <td>0.8500</td>\n",
       "      <td>0.6500</td>\n",
       "      <td>0.2500</td>\n",
       "      <td>5.301356</td>\n",
       "      <td>2.679028</td>\n",
       "      <td>1.190679</td>\n",
       "      <td>1.644271</td>\n",
       "      <td>0.0</td>\n",
       "      <td>1.0</td>\n",
       "      <td>0.0</td>\n",
       "    </tr>\n",
       "    <tr>\n",
       "      <th>3</th>\n",
       "      <td>1.3375</td>\n",
       "      <td>1.0875</td>\n",
       "      <td>0.4125</td>\n",
       "      <td>26.322511</td>\n",
       "      <td>10.999606</td>\n",
       "      <td>6.562909</td>\n",
       "      <td>7.654365</td>\n",
       "      <td>0.0</td>\n",
       "      <td>0.0</td>\n",
       "      <td>1.0</td>\n",
       "    </tr>\n",
       "    <tr>\n",
       "      <th>4</th>\n",
       "      <td>1.7000</td>\n",
       "      <td>1.3000</td>\n",
       "      <td>0.4250</td>\n",
       "      <td>44.225220</td>\n",
       "      <td>24.678240</td>\n",
       "      <td>9.043491</td>\n",
       "      <td>10.517665</td>\n",
       "      <td>0.0</td>\n",
       "      <td>0.0</td>\n",
       "      <td>1.0</td>\n",
       "    </tr>\n",
       "    <tr>\n",
       "      <th>...</th>\n",
       "      <td>...</td>\n",
       "      <td>...</td>\n",
       "      <td>...</td>\n",
       "      <td>...</td>\n",
       "      <td>...</td>\n",
       "      <td>...</td>\n",
       "      <td>...</td>\n",
       "      <td>...</td>\n",
       "      <td>...</td>\n",
       "      <td>...</td>\n",
       "    </tr>\n",
       "    <tr>\n",
       "      <th>45350</th>\n",
       "      <td>1.0625</td>\n",
       "      <td>0.8125</td>\n",
       "      <td>0.2250</td>\n",
       "      <td>9.128539</td>\n",
       "      <td>3.855532</td>\n",
       "      <td>1.729319</td>\n",
       "      <td>2.735727</td>\n",
       "      <td>0.0</td>\n",
       "      <td>1.0</td>\n",
       "      <td>0.0</td>\n",
       "    </tr>\n",
       "    <tr>\n",
       "      <th>45351</th>\n",
       "      <td>1.0875</td>\n",
       "      <td>0.8750</td>\n",
       "      <td>0.2750</td>\n",
       "      <td>11.594945</td>\n",
       "      <td>4.294949</td>\n",
       "      <td>2.537280</td>\n",
       "      <td>3.756309</td>\n",
       "      <td>1.0</td>\n",
       "      <td>0.0</td>\n",
       "      <td>0.0</td>\n",
       "    </tr>\n",
       "    <tr>\n",
       "      <th>45352</th>\n",
       "      <td>1.3125</td>\n",
       "      <td>1.0375</td>\n",
       "      <td>0.3500</td>\n",
       "      <td>22.963095</td>\n",
       "      <td>9.738053</td>\n",
       "      <td>3.983105</td>\n",
       "      <td>7.229122</td>\n",
       "      <td>0.0</td>\n",
       "      <td>0.0</td>\n",
       "      <td>1.0</td>\n",
       "    </tr>\n",
       "    <tr>\n",
       "      <th>45353</th>\n",
       "      <td>0.9625</td>\n",
       "      <td>0.7125</td>\n",
       "      <td>0.2125</td>\n",
       "      <td>8.689122</td>\n",
       "      <td>3.217668</td>\n",
       "      <td>1.828543</td>\n",
       "      <td>2.267960</td>\n",
       "      <td>0.0</td>\n",
       "      <td>1.0</td>\n",
       "      <td>0.0</td>\n",
       "    </tr>\n",
       "    <tr>\n",
       "      <th>45354</th>\n",
       "      <td>1.3375</td>\n",
       "      <td>1.0500</td>\n",
       "      <td>0.3375</td>\n",
       "      <td>23.019794</td>\n",
       "      <td>8.193005</td>\n",
       "      <td>5.712424</td>\n",
       "      <td>6.236890</td>\n",
       "      <td>0.0</td>\n",
       "      <td>0.0</td>\n",
       "      <td>1.0</td>\n",
       "    </tr>\n",
       "  </tbody>\n",
       "</table>\n",
       "<p>45355 rows × 10 columns</p>\n",
       "</div>"
      ],
      "text/plain": [
       "       Length  Diameter  Height     Weight  Shucked_Weight  Viscera_Weight  \\\n",
       "0      0.8125    0.6250  0.1625   5.244657        2.423882        1.119805   \n",
       "1      1.1750    0.9250  0.2875  13.366789        5.556502        2.806601   \n",
       "2      0.8500    0.6500  0.2500   5.301356        2.679028        1.190679   \n",
       "3      1.3375    1.0875  0.4125  26.322511       10.999606        6.562909   \n",
       "4      1.7000    1.3000  0.4250  44.225220       24.678240        9.043491   \n",
       "...       ...       ...     ...        ...             ...             ...   \n",
       "45350  1.0625    0.8125  0.2250   9.128539        3.855532        1.729319   \n",
       "45351  1.0875    0.8750  0.2750  11.594945        4.294949        2.537280   \n",
       "45352  1.3125    1.0375  0.3500  22.963095        9.738053        3.983105   \n",
       "45353  0.9625    0.7125  0.2125   8.689122        3.217668        1.828543   \n",
       "45354  1.3375    1.0500  0.3375  23.019794        8.193005        5.712424   \n",
       "\n",
       "       Shell_Weight  Sex_F  Sex_I  Sex_M  \n",
       "0          1.133980    0.0    1.0    0.0  \n",
       "1          4.266600    0.0    0.0    1.0  \n",
       "2          1.644271    0.0    1.0    0.0  \n",
       "3          7.654365    0.0    0.0    1.0  \n",
       "4         10.517665    0.0    0.0    1.0  \n",
       "...             ...    ...    ...    ...  \n",
       "45350      2.735727    0.0    1.0    0.0  \n",
       "45351      3.756309    1.0    0.0    0.0  \n",
       "45352      7.229122    0.0    0.0    1.0  \n",
       "45353      2.267960    0.0    1.0    0.0  \n",
       "45354      6.236890    0.0    0.0    1.0  \n",
       "\n",
       "[45355 rows x 10 columns]"
      ]
     },
     "execution_count": 48,
     "metadata": {},
     "output_type": "execute_result"
    }
   ],
   "source": [
    "#Review X\n",
    "X"
   ]
  },
  {
   "cell_type": "code",
   "execution_count": 49,
   "id": "1c87aa34",
   "metadata": {},
   "outputs": [
    {
     "data": {
      "text/plain": [
       "0         5.0\n",
       "1         8.0\n",
       "2         6.0\n",
       "3        10.0\n",
       "4         9.0\n",
       "         ... \n",
       "45350     8.0\n",
       "45351    10.0\n",
       "45352    11.0\n",
       "45353     6.0\n",
       "45354    12.0\n",
       "Name: Age, Length: 45355, dtype: float64"
      ]
     },
     "execution_count": 49,
     "metadata": {},
     "output_type": "execute_result"
    }
   ],
   "source": [
    "#Review y\n",
    "y"
   ]
  },
  {
   "cell_type": "markdown",
   "id": "e873ec02",
   "metadata": {},
   "source": [
    "Now that the independent variable and dependent variable values have been saved separately, we will split X and y into training and testing sets. Training sets are used to create the model and the testing data is a portion of the data purposefully held out of training to validate the performance of the model once it has been made. If a model is tested on the same set of data used to create it, this can lead to overfitting. Overfitting is a situation when a model accurately predicts the outcome on data it has seen during training but is not accurate when performing on unseen data. Typically, 20-30% of all data is witheld when developing a model to use for testing."
   ]
  },
  {
   "cell_type": "code",
   "execution_count": 50,
   "id": "9f54fdd8",
   "metadata": {},
   "outputs": [],
   "source": [
    "#Split data into training/testing sets, withold 30% of data for testing\n",
    "X_train, X_test, y_train, y_test = train_test_split(X, y, test_size=0.3, random_state=47)"
   ]
  },
  {
   "cell_type": "code",
   "execution_count": 51,
   "id": "1ead2a22",
   "metadata": {},
   "outputs": [
    {
     "data": {
      "text/plain": [
       "((31748, 10), (13607, 10))"
      ]
     },
     "execution_count": 51,
     "metadata": {},
     "output_type": "execute_result"
    }
   ],
   "source": [
    "#Review X split\n",
    "X_train.shape, X_test.shape"
   ]
  },
  {
   "cell_type": "code",
   "execution_count": 52,
   "id": "1bdbf569",
   "metadata": {},
   "outputs": [
    {
     "data": {
      "text/plain": [
       "((31748,), (13607,))"
      ]
     },
     "execution_count": 52,
     "metadata": {},
     "output_type": "execute_result"
    }
   ],
   "source": [
    "#Review y split\n",
    "y_train.shape, y_test.shape"
   ]
  },
  {
   "cell_type": "markdown",
   "id": "9387f46c",
   "metadata": {},
   "source": [
    "Lastly, before modelling the independent variable values (or X training and testing sets) will need to be normalized. Many machine learning algorithms perform best with normalized data as inputs. The terms scaling and normalizing are often used interchangeably but refer to different things. Both have a place in data science but for this example, normalization is required because in the subsequent modelling steps more advanced machine learning algorithms such as XGBoost will be employed which necessitate this. For normalization, we will use the sklearn StandardScaler() function.\n",
    "\n",
    "   - **Scaling** : Transforming data so all values are within a specific scale, like 0-100 or 0-1; scaling data is valuable when  you’re using methods based on measures of how far apart data points are (like clustering algorithms such as k-Nearest Neighbors)\n",
    "   <br>\n",
    "   <br>\n",
    "   - **Normalization** : Changing the values of your data values so that each feature can be described as a normal distribution (i.e. has mean of 0 and standard deviation of 1); normalize data if you’re going to be using a machine learning or statistics technique that assumes your data is normally distributed."
   ]
  },
  {
   "cell_type": "code",
   "execution_count": 53,
   "id": "00a0008d",
   "metadata": {},
   "outputs": [],
   "source": [
    "#Normalizing X_train & X_test using StandardScaler(); y values will be left as is\n",
    "scaler = StandardScaler()\n",
    "scaler.fit(X_train)\n",
    "X_train_scaled = scaler.transform(X_train)\n",
    "X_test_scaled = scaler.transform(X_test)"
   ]
  },
  {
   "cell_type": "code",
   "execution_count": 54,
   "id": "ed6d903f",
   "metadata": {},
   "outputs": [
    {
     "data": {
      "text/plain": [
       "array([-4.22995392e-16,  6.93801966e-17, -4.86332797e-16,  6.62468974e-17,\n",
       "       -3.57196109e-16, -1.24436740e-16,  8.95228343e-17,  9.98179602e-17,\n",
       "       -1.56664960e-17, -8.07943579e-17])"
      ]
     },
     "execution_count": 54,
     "metadata": {},
     "output_type": "execute_result"
    }
   ],
   "source": [
    "#Review normalization was performed appropriately\n",
    "X_train_scaled.mean(axis = 0)"
   ]
  },
  {
   "cell_type": "code",
   "execution_count": 55,
   "id": "5fdfb1d6",
   "metadata": {},
   "outputs": [
    {
     "data": {
      "text/plain": [
       "array([1., 1., 1., 1., 1., 1., 1., 1., 1., 1.])"
      ]
     },
     "execution_count": 55,
     "metadata": {},
     "output_type": "execute_result"
    }
   ],
   "source": [
    "#Review normalization was performed appropriately\n",
    "X_train_scaled.std(axis = 0, ddof = 0)"
   ]
  },
  {
   "cell_type": "code",
   "execution_count": 56,
   "id": "083b520e",
   "metadata": {},
   "outputs": [
    {
     "data": {
      "text/plain": [
       "array([-0.00146365, -0.00171342,  0.00043667, -0.00077406,  0.00191731,\n",
       "       -0.00596893,  0.00052852,  0.00638273, -0.00523258, -0.00095411])"
      ]
     },
     "execution_count": 56,
     "metadata": {},
     "output_type": "execute_result"
    }
   ],
   "source": [
    "#Review normalization was performed appropriately\n",
    "X_test_scaled.mean(axis = 0)"
   ]
  },
  {
   "cell_type": "code",
   "execution_count": 57,
   "id": "5f19a631",
   "metadata": {},
   "outputs": [
    {
     "data": {
      "text/plain": [
       "array([0.99737105, 1.00040994, 0.99846115, 1.00040343, 1.00679183,\n",
       "       0.99698801, 0.99566923, 1.00276741, 0.99811418, 0.99973975])"
      ]
     },
     "execution_count": 57,
     "metadata": {},
     "output_type": "execute_result"
    }
   ],
   "source": [
    "#Review normalization was performed appropriately\n",
    "X_test_scaled.std(axis = 0, ddof = 0)"
   ]
  },
  {
   "cell_type": "code",
   "execution_count": 58,
   "id": "1d126dbc",
   "metadata": {},
   "outputs": [],
   "source": [
    "#Save training & testing data\n",
    "X_train_scaled_df = pd.DataFrame(X_train_scaled, columns = [X.columns])\n",
    "X_test_scaled_df = pd.DataFrame(X_test_scaled, columns = [X.columns])\n",
    "y_train_df = pd.DataFrame(y_train, columns = ['Age'])\n",
    "y_test_df = pd.DataFrame(y_test, columns = ['Age'])"
   ]
  },
  {
   "cell_type": "code",
   "execution_count": 59,
   "id": "85783718",
   "metadata": {},
   "outputs": [
    {
     "data": {
      "text/html": [
       "<div>\n",
       "<style scoped>\n",
       "    .dataframe tbody tr th:only-of-type {\n",
       "        vertical-align: middle;\n",
       "    }\n",
       "\n",
       "    .dataframe tbody tr th {\n",
       "        vertical-align: top;\n",
       "    }\n",
       "\n",
       "    .dataframe thead tr th {\n",
       "        text-align: left;\n",
       "    }\n",
       "</style>\n",
       "<table border=\"1\" class=\"dataframe\">\n",
       "  <thead>\n",
       "    <tr>\n",
       "      <th></th>\n",
       "      <th>Length</th>\n",
       "      <th>Diameter</th>\n",
       "      <th>Height</th>\n",
       "      <th>Weight</th>\n",
       "      <th>Shucked_Weight</th>\n",
       "      <th>Viscera_Weight</th>\n",
       "      <th>Shell_Weight</th>\n",
       "      <th>Sex_F</th>\n",
       "      <th>Sex_I</th>\n",
       "      <th>Sex_M</th>\n",
       "    </tr>\n",
       "  </thead>\n",
       "  <tbody>\n",
       "    <tr>\n",
       "      <th>0</th>\n",
       "      <td>0.873989</td>\n",
       "      <td>0.860293</td>\n",
       "      <td>0.937882</td>\n",
       "      <td>0.944023</td>\n",
       "      <td>0.606259</td>\n",
       "      <td>0.905845</td>\n",
       "      <td>0.989585</td>\n",
       "      <td>1.528832</td>\n",
       "      <td>-0.704519</td>\n",
       "      <td>-0.764144</td>\n",
       "    </tr>\n",
       "    <tr>\n",
       "      <th>1</th>\n",
       "      <td>0.460982</td>\n",
       "      <td>0.693374</td>\n",
       "      <td>0.500199</td>\n",
       "      <td>0.511690</td>\n",
       "      <td>0.439462</td>\n",
       "      <td>0.609758</td>\n",
       "      <td>0.360296</td>\n",
       "      <td>-0.654094</td>\n",
       "      <td>-0.704519</td>\n",
       "      <td>1.308655</td>\n",
       "    </tr>\n",
       "    <tr>\n",
       "      <th>2</th>\n",
       "      <td>-0.043803</td>\n",
       "      <td>0.136980</td>\n",
       "      <td>0.646093</td>\n",
       "      <td>0.165359</td>\n",
       "      <td>-0.463810</td>\n",
       "      <td>0.287699</td>\n",
       "      <td>0.693946</td>\n",
       "      <td>-0.654094</td>\n",
       "      <td>-0.704519</td>\n",
       "      <td>1.308655</td>\n",
       "    </tr>\n",
       "    <tr>\n",
       "      <th>3</th>\n",
       "      <td>0.552762</td>\n",
       "      <td>0.526456</td>\n",
       "      <td>0.500199</td>\n",
       "      <td>0.597692</td>\n",
       "      <td>0.421499</td>\n",
       "      <td>0.698065</td>\n",
       "      <td>0.398307</td>\n",
       "      <td>-0.654094</td>\n",
       "      <td>-0.704519</td>\n",
       "      <td>1.308655</td>\n",
       "    </tr>\n",
       "    <tr>\n",
       "      <th>4</th>\n",
       "      <td>0.369203</td>\n",
       "      <td>0.359538</td>\n",
       "      <td>0.354304</td>\n",
       "      <td>-0.012455</td>\n",
       "      <td>-0.119951</td>\n",
       "      <td>-0.029166</td>\n",
       "      <td>-0.066270</td>\n",
       "      <td>-0.654094</td>\n",
       "      <td>-0.704519</td>\n",
       "      <td>1.308655</td>\n",
       "    </tr>\n",
       "  </tbody>\n",
       "</table>\n",
       "</div>"
      ],
      "text/plain": [
       "     Length  Diameter    Height    Weight Shucked_Weight Viscera_Weight  \\\n",
       "0  0.873989  0.860293  0.937882  0.944023       0.606259       0.905845   \n",
       "1  0.460982  0.693374  0.500199  0.511690       0.439462       0.609758   \n",
       "2 -0.043803  0.136980  0.646093  0.165359      -0.463810       0.287699   \n",
       "3  0.552762  0.526456  0.500199  0.597692       0.421499       0.698065   \n",
       "4  0.369203  0.359538  0.354304 -0.012455      -0.119951      -0.029166   \n",
       "\n",
       "  Shell_Weight     Sex_F     Sex_I     Sex_M  \n",
       "0     0.989585  1.528832 -0.704519 -0.764144  \n",
       "1     0.360296 -0.654094 -0.704519  1.308655  \n",
       "2     0.693946 -0.654094 -0.704519  1.308655  \n",
       "3     0.398307 -0.654094 -0.704519  1.308655  \n",
       "4    -0.066270 -0.654094 -0.704519  1.308655  "
      ]
     },
     "execution_count": 59,
     "metadata": {},
     "output_type": "execute_result"
    }
   ],
   "source": [
    "#Check head of each df to ensure df creation was correct\n",
    "X_train_scaled_df.head()"
   ]
  },
  {
   "cell_type": "code",
   "execution_count": 60,
   "id": "73587869",
   "metadata": {},
   "outputs": [
    {
     "data": {
      "text/html": [
       "<div>\n",
       "<style scoped>\n",
       "    .dataframe tbody tr th:only-of-type {\n",
       "        vertical-align: middle;\n",
       "    }\n",
       "\n",
       "    .dataframe tbody tr th {\n",
       "        vertical-align: top;\n",
       "    }\n",
       "\n",
       "    .dataframe thead tr th {\n",
       "        text-align: left;\n",
       "    }\n",
       "</style>\n",
       "<table border=\"1\" class=\"dataframe\">\n",
       "  <thead>\n",
       "    <tr>\n",
       "      <th></th>\n",
       "      <th>Length</th>\n",
       "      <th>Diameter</th>\n",
       "      <th>Height</th>\n",
       "      <th>Weight</th>\n",
       "      <th>Shucked_Weight</th>\n",
       "      <th>Viscera_Weight</th>\n",
       "      <th>Shell_Weight</th>\n",
       "      <th>Sex_F</th>\n",
       "      <th>Sex_I</th>\n",
       "      <th>Sex_M</th>\n",
       "    </tr>\n",
       "  </thead>\n",
       "  <tbody>\n",
       "    <tr>\n",
       "      <th>0</th>\n",
       "      <td>0.231534</td>\n",
       "      <td>0.248259</td>\n",
       "      <td>0.500199</td>\n",
       "      <td>-0.027563</td>\n",
       "      <td>-0.350901</td>\n",
       "      <td>-0.138251</td>\n",
       "      <td>-0.028259</td>\n",
       "      <td>-0.654094</td>\n",
       "      <td>-0.704519</td>\n",
       "      <td>1.308655</td>\n",
       "    </tr>\n",
       "    <tr>\n",
       "      <th>1</th>\n",
       "      <td>1.470554</td>\n",
       "      <td>1.305408</td>\n",
       "      <td>1.521461</td>\n",
       "      <td>2.071342</td>\n",
       "      <td>1.494134</td>\n",
       "      <td>2.355112</td>\n",
       "      <td>1.623098</td>\n",
       "      <td>1.528832</td>\n",
       "      <td>-0.704519</td>\n",
       "      <td>-0.764144</td>\n",
       "    </tr>\n",
       "    <tr>\n",
       "      <th>2</th>\n",
       "      <td>0.919879</td>\n",
       "      <td>1.027211</td>\n",
       "      <td>1.083777</td>\n",
       "      <td>1.469331</td>\n",
       "      <td>1.437679</td>\n",
       "      <td>1.233099</td>\n",
       "      <td>1.158522</td>\n",
       "      <td>-0.654094</td>\n",
       "      <td>-0.704519</td>\n",
       "      <td>1.308655</td>\n",
       "    </tr>\n",
       "    <tr>\n",
       "      <th>3</th>\n",
       "      <td>0.415093</td>\n",
       "      <td>0.470817</td>\n",
       "      <td>0.500199</td>\n",
       "      <td>0.230442</td>\n",
       "      <td>0.390705</td>\n",
       "      <td>0.313671</td>\n",
       "      <td>0.187136</td>\n",
       "      <td>1.528832</td>\n",
       "      <td>-0.704519</td>\n",
       "      <td>-0.764144</td>\n",
       "    </tr>\n",
       "    <tr>\n",
       "      <th>4</th>\n",
       "      <td>0.231534</td>\n",
       "      <td>0.303898</td>\n",
       "      <td>0.062515</td>\n",
       "      <td>0.117710</td>\n",
       "      <td>-0.022439</td>\n",
       "      <td>-0.148640</td>\n",
       "      <td>0.313838</td>\n",
       "      <td>-0.654094</td>\n",
       "      <td>1.419408</td>\n",
       "      <td>-0.764144</td>\n",
       "    </tr>\n",
       "  </tbody>\n",
       "</table>\n",
       "</div>"
      ],
      "text/plain": [
       "     Length  Diameter    Height    Weight Shucked_Weight Viscera_Weight  \\\n",
       "0  0.231534  0.248259  0.500199 -0.027563      -0.350901      -0.138251   \n",
       "1  1.470554  1.305408  1.521461  2.071342       1.494134       2.355112   \n",
       "2  0.919879  1.027211  1.083777  1.469331       1.437679       1.233099   \n",
       "3  0.415093  0.470817  0.500199  0.230442       0.390705       0.313671   \n",
       "4  0.231534  0.303898  0.062515  0.117710      -0.022439      -0.148640   \n",
       "\n",
       "  Shell_Weight     Sex_F     Sex_I     Sex_M  \n",
       "0    -0.028259 -0.654094 -0.704519  1.308655  \n",
       "1     1.623098  1.528832 -0.704519 -0.764144  \n",
       "2     1.158522 -0.654094 -0.704519  1.308655  \n",
       "3     0.187136  1.528832 -0.704519 -0.764144  \n",
       "4     0.313838 -0.654094  1.419408 -0.764144  "
      ]
     },
     "execution_count": 60,
     "metadata": {},
     "output_type": "execute_result"
    }
   ],
   "source": [
    "X_test_scaled_df.head()"
   ]
  },
  {
   "cell_type": "code",
   "execution_count": 61,
   "id": "03b51b94",
   "metadata": {},
   "outputs": [
    {
     "data": {
      "text/html": [
       "<div>\n",
       "<style scoped>\n",
       "    .dataframe tbody tr th:only-of-type {\n",
       "        vertical-align: middle;\n",
       "    }\n",
       "\n",
       "    .dataframe tbody tr th {\n",
       "        vertical-align: top;\n",
       "    }\n",
       "\n",
       "    .dataframe thead th {\n",
       "        text-align: right;\n",
       "    }\n",
       "</style>\n",
       "<table border=\"1\" class=\"dataframe\">\n",
       "  <thead>\n",
       "    <tr style=\"text-align: right;\">\n",
       "      <th></th>\n",
       "      <th>Age</th>\n",
       "    </tr>\n",
       "  </thead>\n",
       "  <tbody>\n",
       "    <tr>\n",
       "      <th>11735</th>\n",
       "      <td>12.0</td>\n",
       "    </tr>\n",
       "    <tr>\n",
       "      <th>21925</th>\n",
       "      <td>10.0</td>\n",
       "    </tr>\n",
       "    <tr>\n",
       "      <th>12389</th>\n",
       "      <td>12.0</td>\n",
       "    </tr>\n",
       "    <tr>\n",
       "      <th>12361</th>\n",
       "      <td>9.0</td>\n",
       "    </tr>\n",
       "    <tr>\n",
       "      <th>2357</th>\n",
       "      <td>12.0</td>\n",
       "    </tr>\n",
       "  </tbody>\n",
       "</table>\n",
       "</div>"
      ],
      "text/plain": [
       "        Age\n",
       "11735  12.0\n",
       "21925  10.0\n",
       "12389  12.0\n",
       "12361   9.0\n",
       "2357   12.0"
      ]
     },
     "execution_count": 61,
     "metadata": {},
     "output_type": "execute_result"
    }
   ],
   "source": [
    "y_train_df.head()"
   ]
  },
  {
   "cell_type": "code",
   "execution_count": 62,
   "id": "8aad8fae",
   "metadata": {},
   "outputs": [
    {
     "data": {
      "text/html": [
       "<div>\n",
       "<style scoped>\n",
       "    .dataframe tbody tr th:only-of-type {\n",
       "        vertical-align: middle;\n",
       "    }\n",
       "\n",
       "    .dataframe tbody tr th {\n",
       "        vertical-align: top;\n",
       "    }\n",
       "\n",
       "    .dataframe thead th {\n",
       "        text-align: right;\n",
       "    }\n",
       "</style>\n",
       "<table border=\"1\" class=\"dataframe\">\n",
       "  <thead>\n",
       "    <tr style=\"text-align: right;\">\n",
       "      <th></th>\n",
       "      <th>Age</th>\n",
       "    </tr>\n",
       "  </thead>\n",
       "  <tbody>\n",
       "    <tr>\n",
       "      <th>25384</th>\n",
       "      <td>10.0</td>\n",
       "    </tr>\n",
       "    <tr>\n",
       "      <th>37878</th>\n",
       "      <td>10.0</td>\n",
       "    </tr>\n",
       "    <tr>\n",
       "      <th>39380</th>\n",
       "      <td>10.0</td>\n",
       "    </tr>\n",
       "    <tr>\n",
       "      <th>43279</th>\n",
       "      <td>10.0</td>\n",
       "    </tr>\n",
       "    <tr>\n",
       "      <th>4762</th>\n",
       "      <td>13.0</td>\n",
       "    </tr>\n",
       "  </tbody>\n",
       "</table>\n",
       "</div>"
      ],
      "text/plain": [
       "        Age\n",
       "25384  10.0\n",
       "37878  10.0\n",
       "39380  10.0\n",
       "43279  10.0\n",
       "4762   13.0"
      ]
     },
     "execution_count": 62,
     "metadata": {},
     "output_type": "execute_result"
    }
   ],
   "source": [
    "y_test_df.head()"
   ]
  },
  {
   "cell_type": "code",
   "execution_count": 63,
   "id": "10c93683",
   "metadata": {},
   "outputs": [],
   "source": [
    "#Save each dataframe to csv for use in subsequent modelling steps\n",
    "X_train_scaled_df.to_csv('./cleaned_data/X_train_scaled.csv')\n",
    "X_test_scaled_df.to_csv('./cleaned_data/X_test_scaled.csv')\n",
    "y_train_df.to_csv('./cleaned_data/y_train.csv')\n",
    "y_test_df.to_csv('./cleaned_data/y_test.csv')"
   ]
  }
 ],
 "metadata": {
  "kernelspec": {
   "display_name": "Python 3 (ipykernel)",
   "language": "python",
   "name": "python3"
  },
  "language_info": {
   "codemirror_mode": {
    "name": "ipython",
    "version": 3
   },
   "file_extension": ".py",
   "mimetype": "text/x-python",
   "name": "python",
   "nbconvert_exporter": "python",
   "pygments_lexer": "ipython3",
   "version": "3.9.13"
  }
 },
 "nbformat": 4,
 "nbformat_minor": 5
}
